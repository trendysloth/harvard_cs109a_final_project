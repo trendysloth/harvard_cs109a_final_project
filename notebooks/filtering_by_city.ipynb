{
 "cells": [
  {
   "cell_type": "code",
   "execution_count": null,
   "metadata": {
    "collapsed": true
   },
   "outputs": [],
   "source": [
    "#Set up workspace\n",
    "import numpy as np\n",
    "import pandas as pd\n",
    "from collections import Counter\n",
    "from datetime import datetime\n",
    "import os\n",
    "import json\n",
    "# os.chdir('/Users/thomashill/Documents/Education/Fall 2017/Comp Sci/Final Project/Data/dataset')"
   ]
  },
  {
   "cell_type": "code",
   "execution_count": null,
   "metadata": {
    "collapsed": true
   },
   "outputs": [],
   "source": [
    "#Reading in dataframes:\n",
    "users = pd.read_json(\"user.json\",lines=True) #users\n",
    "businesses = pd.read_json(\"business.json\",lines=True) #businesses\n",
    "\n",
    "with open('review.json') as json_file:      #reviews\n",
    "    reviews = json_file.readlines()\n",
    "    reviews = list(map(json.loads, reviews)) \n",
    "pd.DataFrame(reviews)\n",
    "reviews_df=pd.DataFrame(reviews,columns=['business_id','cool','date','funny','review_id','stars','text','useful','user_id'])"
   ]
  },
  {
   "cell_type": "code",
   "execution_count": null,
   "metadata": {
    "collapsed": true
   },
   "outputs": [],
   "source": [
    "#Formatting users dataset\n",
    "users['elite'] = [x if len(x)>0 else 'NaN' for x in users['elite']]\n",
    "\n",
    "elite_status = [] #Creating a new elite status column\n",
    "for i in users['elite']:\n",
    "    if i=='NaN':\n",
    "        elite_status.append('No')\n",
    "    else:\n",
    "        elite_status.append('Yes')\n",
    "users = users.assign(elite_status = elite_status)\n",
    "\n",
    "#Formatting datetime\n",
    "users['yelping_since'] = [datetime.strptime(i, '%Y-%m-%d') for i in users['yelping_since']]"
   ]
  },
  {
   "cell_type": "code",
   "execution_count": null,
   "metadata": {
    "collapsed": true
   },
   "outputs": [],
   "source": [
    "#Filtering businesses dataset for just restaurants\n",
    "new_column = []\n",
    "for j in businesses['categories']:\n",
    "    if j.count('Restaurants')>0:\n",
    "        new_column.append('Yes')\n",
    "    else:\n",
    "        new_column.append('No')\n",
    "businesses['Restaurant_Status']=new_column\n",
    "\n",
    "businesses = businesses[businesses['Restaurant_Status']=='Yes']"
   ]
  },
  {
   "cell_type": "code",
   "execution_count": null,
   "metadata": {
    "collapsed": true
   },
   "outputs": [],
   "source": [
    "#Formula to define dataframes filtered by city\n",
    "def choose_city(city,review_count=5):      \n",
    "    city_businesses = businesses[businesses['city']==city]\n",
    "    city_businesses = city_businesses[city_businesses['review_count']>(review_count - 1)]\n",
    "\n",
    "    #Subsetting reviews dataset\n",
    "    business_list = list(set(city_businesses['business_id']))\n",
    "    city_reviews = reviews_df[reviews_df['business_id'].isin(business_list)]\n",
    "    keep_bids = []\n",
    "    for bid, df in city_reviews.groupby('business_id'):\n",
    "        if df.shape[0]>=review_count:\n",
    "            keep_bids.append(bid)            \n",
    "    city_reviews = city_reviews[city_reviews['business_id'].isin(keep_bids)]\n",
    "\n",
    "    #users\n",
    "    city_user_list = list(set(city_reviews['user_id']))\n",
    "    city_users = users[users['user_id'].isin(city_user_list)] \n",
    "    city_user_list = list(set(city_users['user_id']))    \n",
    "    city_reviews = city_reviews[city_reviews['user_id'].isin(city_user_list)]    \n",
    "    \n",
    "    #Saving each file to .csv\n",
    "    city_reviews.to_json(str(city)+'_reviews.json')\n",
    "    city_users.to_json(str(city)+'_users.json')\n",
    "    city_businesses.to_json(str(city)+'_businesses.json')\n",
    "        \n",
    "    return {'businesses':city_businesses, 'users':city_users ,'reviews':city_reviews }"
   ]
  },
  {
   "cell_type": "markdown",
   "metadata": {},
   "source": [
    "Next, create an ordered list of cities by number of reviews. From this ordered list we'll select cities with a moderate but not excessive number of reviews to be our sample set. Then we'll save the dataframes for each of these cities to .csv's so that we can just read these in in future, without having to do the entire set of steps above.  "
   ]
  },
  {
   "cell_type": "code",
   "execution_count": null,
   "metadata": {
    "collapsed": true
   },
   "outputs": [],
   "source": [
    "#count cities\n",
    "cities = list(set(businesses['city']))\n",
    "cities = list(filter(None, cities))\n",
    "\n",
    "business_counts = []\n",
    "for i in cities:\n",
    "    businesses_list = list(businesses['city'])\n",
    "    business_counts.append(businesses_list.count(i))\n",
    "\n",
    "cities_df = pd.DataFrame({\n",
    "        'Cities': cities,\n",
    "        'Businesses': business_counts})\n",
    "\n",
    "cities_df = cities_df.sort_values(by=['Businesses'],ascending=False)\n",
    "\n",
    "medium_cities = list(cities_df['Cities'][25:50])"
   ]
  },
  {
   "cell_type": "code",
   "execution_count": null,
   "metadata": {},
   "outputs": [],
   "source": [
    "medium_cities"
   ]
  },
  {
   "cell_type": "code",
   "execution_count": null,
   "metadata": {
    "collapsed": true
   },
   "outputs": [],
   "source": [
    "# os.chdir(\"/Users/thomashill/Documents/Education/Fall 2017/Comp Sci/Final Project/Data/dataset/Cities_dfs\")\n",
    "\n",
    "#looping through to create many different cities dfs:\n",
    "cities_dfs = []\n",
    "for i in ['Montreal']:\n",
    "    cities_dfs.append(choose_city(i))\n",
    "dfs_dict = dict(zip(medium_cities,cities_dfs))"
   ]
  }
 ],
 "metadata": {
  "kernelspec": {
   "display_name": "Python 3",
   "language": "python",
   "name": "python3"
  },
  "language_info": {
   "codemirror_mode": {
    "name": "ipython",
    "version": 3
   },
   "file_extension": ".py",
   "mimetype": "text/x-python",
   "name": "python",
   "nbconvert_exporter": "python",
   "pygments_lexer": "ipython3",
   "version": "3.6.1"
  }
 },
 "nbformat": 4,
 "nbformat_minor": 2
}
