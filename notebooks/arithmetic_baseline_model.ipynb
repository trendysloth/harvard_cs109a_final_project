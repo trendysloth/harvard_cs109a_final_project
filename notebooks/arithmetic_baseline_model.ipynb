{
 "cells": [
  {
   "cell_type": "code",
   "execution_count": 1,
   "metadata": {
    "collapsed": true
   },
   "outputs": [],
   "source": [
    "#Set up workspace\n",
    "import numpy as np\n",
    "import pandas as pd\n",
    "import os\n",
    "import json\n",
    "from datetime import datetime\n",
    "from collections import Counter\n",
    "# os.chdir('/Users/thomashill/Documents/Education/Fall 2017/Comp Sci/Final Project/Data/dataset/Cities_dfs')"
   ]
  },
  {
   "cell_type": "code",
   "execution_count": 2,
   "metadata": {
    "collapsed": true
   },
   "outputs": [],
   "source": [
    "def read_city(city):\n",
    "    businesses = pd.read_csv(str(city)+'_businesses.csv')\n",
    "    users = pd.read_csv(str(city)+'_users.csv')\n",
    "    reviews_orig = pd.read_csv(str(city)+'_reviews.csv')\n",
    "    \n",
    "    reviews_df = reviews_orig.pivot(index = 'user_id', columns ='business_id', values = 'stars') # used to have : .fillna(0)\n",
    "    \n",
    "    return {'businesses': businesses, 'users': users, 'reviews_df': reviews_df, 'original reviews': reviews_orig}\n",
    "\n",
    "\n",
    "Montreal_dfs = read_city('Montréal')\n",
    "\n",
    "businesses = Montreal_dfs['businesses']\n",
    "\n",
    "users = Montreal_dfs['users']\n",
    "users['yelping_since'] = [datetime.strptime(i, '%Y-%m-%d') for i in users['yelping_since']]\n",
    "users['indexed_id'] = range(1, len(users) + 1)\n",
    "\n",
    "orig_reviews = Montreal_dfs['original reviews']\n",
    "\n",
    "reviews_df = Montreal_dfs['reviews_df']"
   ]
  },
  {
   "cell_type": "code",
   "execution_count": 3,
   "metadata": {
    "collapsed": true
   },
   "outputs": [],
   "source": [
    "#Cleaning and merging\n",
    "\n",
    "#drop unnecessary columns\n",
    "businesses = businesses.drop('Unnamed: 0', 1)\n",
    "users = users.drop('Unnamed: 0', 1)\n",
    "orig_reviews = orig_reviews.drop('Unnamed: 0', 1)\n",
    "\n",
    "#Rename columns to prevent duplicates in merged dataframe\n",
    "businesses = businesses.rename(columns={'stars': 'business_stars','name':'business_name','review_count':'business_review_count'})\n",
    "orig_reviews = orig_reviews.rename(columns={'cool':'review_cool','date':'review_date','funny':'review_funny','useful':'review_useful'})\n",
    "users = users.rename(columns={'cool':'user_cool_count','fan':'user_fans','friends':'user_friends','funny':'user_funny_count','name':'user_name','review_count':'user_review_count','useful':'user_useful_count'})\n",
    "\n",
    "#Merging datasets\n",
    "df_1 = pd.merge(orig_reviews, users, on='user_id')\n",
    "df_total = pd.merge(df_1, businesses, on='business_id')\n",
    "df_total = df_total.drop('business_stars',1) #Drop columns of values that must be calculated endogenously within train and test sets\n",
    "df_total = df_total.drop('average_stars',1)"
   ]
  },
  {
   "cell_type": "code",
   "execution_count": 4,
   "metadata": {
    "collapsed": true
   },
   "outputs": [],
   "source": [
    "#Formulas to return baseline scores of individual businesses and users\n",
    "\n",
    "def business_baseline(train_df,business_id,business_total_avg_stars):\n",
    "    average_stars = np.average(train_df['stars'], weights=(train_df['business_id']==business_id))\n",
    "    divergence = average_stars - business_total_avg_stars\n",
    "\n",
    "    return divergence\n",
    "\n",
    "def user_baseline(train_df,user_id,user_total_avg_stars):\n",
    "    average_stars = np.average(train_df['stars'], weights=(train_df['user_id']==user_id))\n",
    "    divergence = average_stars - user_total_avg_stars   \n",
    "\n",
    "    return divergence"
   ]
  },
  {
   "cell_type": "markdown",
   "metadata": {},
   "source": [
    "The above values are the divergence of the individual or business from the average. "
   ]
  },
  {
   "cell_type": "code",
   "execution_count": 5,
   "metadata": {
    "collapsed": true
   },
   "outputs": [],
   "source": [
    "def baseline_score(dataframe,business_id,user_id):\n",
    "    return dataframe[business_id][user_id]"
   ]
  },
  {
   "cell_type": "markdown",
   "metadata": {},
   "source": [
    "Now, let's split our data into train and test, and use RMSE to evaluate the performance of this approach to calculating baselines."
   ]
  },
  {
   "cell_type": "code",
   "execution_count": 6,
   "metadata": {
    "collapsed": true
   },
   "outputs": [],
   "source": [
    "#Split into test and train\n",
    "from sklearn.model_selection import train_test_split\n",
    "\n",
    "train, test = train_test_split(df_total,stratify=df_total['user_id'])\n",
    "test = test[test['business_id'].isin(train['business_id'])] #This makes sure there is overlap in train and test for both\n"
   ]
  },
  {
   "cell_type": "code",
   "execution_count": 7,
   "metadata": {
    "collapsed": true
   },
   "outputs": [],
   "source": [
    "#FORMULA TO RETURN VECTORS OF PREDICTED and ACTUAL VALUES\n",
    "def baseline_predictions(train,test):\n",
    "    user_ids = list(set(train['user_id']))\n",
    "    business_ids = list(set(train['business_id']))\n",
    "    \n",
    "    #Getting user and business averages for full matrix    \n",
    "    business_list = list(set(train['business_id']))\n",
    "    user_list = list(set(train['user_id']))\n",
    "    \n",
    "    business_average_stars = []\n",
    "    for i in business_list:\n",
    "        average_stars = np.average(train['stars'], weights=(train['business_id']==i))\n",
    "        business_average_stars.append(average_stars)\n",
    "    business_total_avg_stars = np.mean(business_average_stars) #These averages are literally averages of averages - which I think we want\n",
    "    \n",
    "    user_average_stars = [] \n",
    "    for i in user_list:\n",
    "        average_stars = np.average(train['stars'], weights=(train['user_id']==i))\n",
    "        user_average_stars.append(average_stars)\n",
    "    user_total_avg_stars = np.mean(user_average_stars)\n",
    "    \n",
    "    \n",
    "    \n",
    "    user_baselines = []\n",
    "    for i in user_ids:\n",
    "        a = user_baseline(train,i,user_total_avg_stars)\n",
    "        user_baselines.append(a)\n",
    "    \n",
    "    business_baselines = []\n",
    "    for i in business_ids:\n",
    "        a = business_baseline(train,i,business_total_avg_stars)\n",
    "        business_baselines.append(a)\n",
    "\n",
    "    #Create matrices of user and business average scores, and then add them\n",
    "    business_baselines_matrix = np.tile(business_baselines,(len(user_baselines),1))\n",
    "    user_baselines_matrix = np.tile(user_baselines,(len(business_baselines),1)).transpose()\n",
    "    \n",
    "    overall_avg_stars = np.mean(train['stars']) #Perhaps change how this average is calculated\n",
    "    \n",
    "    master_baselines_matrix = np.add(business_baselines_matrix,user_baselines_matrix) #Sum the two matrices\n",
    "    master_baselines_matrix = master_baselines_matrix + overall_avg_stars #Add the average stars from the train dataframe\n",
    "\n",
    "    #Turn numpy matrix into pandas dataframe with labels for columns and rows\n",
    "    master_baselines_dataframe = pd.DataFrame(data=master_baselines_matrix,index=user_ids,columns=business_ids)\n",
    "    \n",
    "    #Test component: \n",
    "    \n",
    "    #In order to test the accuracy of this, create a dataframe of user-business interactions that actually happened\n",
    "    test_user_business_combos = list(zip(test['business_id'],\n",
    "                                         test['user_id'],\n",
    "                                         test['stars']))\n",
    "    \n",
    "    train_user_business_combos = list(zip(train['business_id'],\n",
    "                                         train['user_id'],\n",
    "                                         train['stars']))\n",
    "\n",
    "    train_predicted_values = []\n",
    "    train_actual_values = []\n",
    "    for i in train_user_business_combos:\n",
    "        prediction = baseline_score(master_baselines_dataframe,i[0],i[1])\n",
    "        #prediction = round(prediction)  ###this line is better off hidden\n",
    "        train_predicted_values.append(prediction)\n",
    "        train_actual_values.append(i[2])\n",
    "    \n",
    "    train_results = pd.DataFrame({\n",
    "            'predicted_values': train_predicted_values,\n",
    "            'actual_values': train_actual_values})\n",
    "    test_predicted_values = []\n",
    "    test_actual_values = []\n",
    "    \n",
    "    \n",
    "    for i in test_user_business_combos:\n",
    "        prediction = baseline_score(master_baselines_dataframe,i[0],i[1])\n",
    "        #prediction = round(prediction)  ###this line is better off hidden\n",
    "        test_predicted_values.append(prediction)\n",
    "        test_actual_values.append(i[2])\n",
    "    \n",
    "    test_results = pd.DataFrame({\n",
    "            'predicted_values': test_predicted_values,\n",
    "            'actual_values': test_actual_values})\n",
    "\n",
    "    return test_results"
   ]
  },
  {
   "cell_type": "code",
   "execution_count": 8,
   "metadata": {
    "collapsed": true
   },
   "outputs": [],
   "source": [
    "results = baseline_predictions(train,test)"
   ]
  },
  {
   "cell_type": "code",
   "execution_count": 9,
   "metadata": {
    "collapsed": true
   },
   "outputs": [],
   "source": [
    "#RMSE  \n",
    "def RMSE(results):\n",
    "    \"\"\"\n",
    "    Calculate the root mean squared error between a matrix of real ratings and predicted ratings\n",
    "    :param real: A matrix containing the real ratings (with 'NaN' for any missing elements)\n",
    "    :param predicted: A matrix of predictions\n",
    "    :return: The RMSE as a float\n",
    "    \"\"\"\n",
    "    return np.sqrt(np.nanmean(np.square(results['actual_values'] - results['predicted_values'])))"
   ]
  },
  {
   "cell_type": "code",
   "execution_count": 10,
   "metadata": {},
   "outputs": [
    {
     "data": {
      "text/plain": [
       "1.0643776540737961"
      ]
     },
     "execution_count": 10,
     "metadata": {},
     "output_type": "execute_result"
    }
   ],
   "source": [
    "RMSE(results)"
   ]
  }
 ],
 "metadata": {
  "kernelspec": {
   "display_name": "Python 2",
   "language": "python",
   "name": "python2"
  },
  "language_info": {
   "codemirror_mode": {
    "name": "ipython",
    "version": 2
   },
   "file_extension": ".py",
   "mimetype": "text/x-python",
   "name": "python",
   "nbconvert_exporter": "python",
   "pygments_lexer": "ipython2",
   "version": "2.7.13"
  }
 },
 "nbformat": 4,
 "nbformat_minor": 2
}
