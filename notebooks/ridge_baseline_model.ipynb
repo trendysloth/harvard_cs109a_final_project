{
 "cells": [
  {
   "cell_type": "code",
   "execution_count": 1,
   "metadata": {
    "collapsed": true
   },
   "outputs": [],
   "source": [
    "#Set up workspace\n",
    "import numpy as np\n",
    "import pandas as pd\n",
    "import matplotlib\n",
    "import matplotlib.pyplot as plt\n",
    "import sklearn.metrics as metrics\n",
    "from sklearn.model_selection import cross_val_score\n",
    "from sklearn import tree\n",
    "from sklearn.tree import DecisionTreeClassifier\n",
    "from sklearn.neighbors import KNeighborsClassifier\n",
    "from sklearn.ensemble import RandomForestClassifier\n",
    "from sklearn.ensemble import AdaBoostClassifier\n",
    "from sklearn.linear_model import LogisticRegressionCV\n",
    "import seaborn as sns\n",
    "%matplotlib inline\n",
    "import os\n",
    "import json\n",
    "from datetime import datetime\n",
    "from collections import Counter\n",
    "from sklearn.linear_model import LinearRegression\n",
    "from sklearn.preprocessing import PolynomialFeatures\n",
    "from sklearn.linear_model import Ridge\n",
    "from sklearn.linear_model import Lasso\n",
    "from sklearn.linear_model import RidgeCV\n",
    "from sklearn.linear_model import LassoCV\n",
    "from statsmodels.tools import add_constant\n",
    "\n",
    "# os.chdir('/Users/thomashill/Documents/Education/Fall 2017/Comp Sci/Final Project/Data/dataset/Cities_dfs')"
   ]
  },
  {
   "cell_type": "code",
   "execution_count": 2,
   "metadata": {
    "collapsed": true
   },
   "outputs": [],
   "source": [
    "#Read in files\n",
    "def read_city(city):\n",
    "    businesses = pd.read_csv(str(city)+'_businesses.csv')\n",
    "    users = pd.read_csv(str(city)+'_users.csv')\n",
    "    reviews_orig = pd.read_csv(str(city)+'_reviews.csv')\n",
    "    \n",
    "    reviews_df = reviews_orig.pivot(index = 'user_id', columns ='business_id', values = 'stars') # used to have : .fillna(0)\n",
    "    \n",
    "    return {'businesses': businesses, 'users': users, 'reviews_df': reviews_df, 'original reviews': reviews_orig}\n",
    "\n",
    "\n",
    "Montreal_dfs = read_city('Montréal')\n",
    "\n",
    "businesses = Montreal_dfs['businesses']\n",
    "\n",
    "users = Montreal_dfs['users']\n",
    "users['yelping_since'] = [datetime.strptime(i, '%Y-%m-%d') for i in users['yelping_since']]\n",
    "users['indexed_id'] = range(1, len(users) + 1)\n",
    "\n",
    "orig_reviews = Montreal_dfs['original reviews']\n",
    "\n",
    "reviews_df = Montreal_dfs['reviews_df']"
   ]
  },
  {
   "cell_type": "code",
   "execution_count": 3,
   "metadata": {
    "collapsed": true
   },
   "outputs": [],
   "source": [
    "#Cleaning and merging\n",
    "\n",
    "#drop unnecessary columns\n",
    "businesses = businesses.drop('Unnamed: 0', 1)\n",
    "users = users.drop('Unnamed: 0', 1)\n",
    "orig_reviews = orig_reviews.drop('Unnamed: 0', 1)\n",
    "\n",
    "#Rename columns to prevent duplicates in merged dataframe\n",
    "businesses = businesses.rename(columns={'stars': 'business_stars','name':'business_name','review_count':'business_review_count'})\n",
    "orig_reviews = orig_reviews.rename(columns={'cool':'review_cool','date':'review_date','funny':'review_funny','useful':'review_useful'})\n",
    "users = users.rename(columns={'cool':'user_cool_count','fan':'user_fans','friends':'user_friends','funny':'user_funny_count','name':'user_name','review_count':'user_review_count','useful':'user_useful_count'})\n",
    "\n",
    "#Merging datasets\n",
    "df_1 = pd.merge(orig_reviews, users, on='user_id')\n",
    "df_total = pd.merge(df_1, businesses, on='business_id')\n",
    "df_total = df_total.drop('business_stars',1) #Drop columns of values that must be calculated endogenously within train and test sets\n",
    "df_total = df_total.drop('average_stars',1)"
   ]
  },
  {
   "cell_type": "code",
   "execution_count": 4,
   "metadata": {
    "collapsed": true
   },
   "outputs": [],
   "source": [
    "#Formulas to return baseline scores of individual businesses and users\n",
    "\n",
    "def business_baseline(train_df,business_id,business_total_avg_stars):\n",
    "    average_stars = np.average(train_df['stars'], weights=(train_df['business_id']==business_id))\n",
    "    divergence = average_stars - business_total_avg_stars\n",
    "\n",
    "    return divergence\n",
    "\n",
    "def user_baseline(train_df,user_id,user_total_avg_stars):\n",
    "    average_stars = np.average(train_df['stars'], weights=(train_df['user_id']==user_id))\n",
    "    divergence = average_stars - user_total_avg_stars   \n",
    "\n",
    "    return divergence"
   ]
  },
  {
   "cell_type": "code",
   "execution_count": 5,
   "metadata": {
    "collapsed": true
   },
   "outputs": [],
   "source": [
    "def baseline_score(dataframe,business_id,user_id):\n",
    "    return dataframe[business_id][user_id]"
   ]
  },
  {
   "cell_type": "markdown",
   "metadata": {},
   "source": [
    "Now, let's split our data into train and test, and use RMSE to evaluate the performance of this approach to calculating baselines."
   ]
  },
  {
   "cell_type": "code",
   "execution_count": 6,
   "metadata": {
    "collapsed": true
   },
   "outputs": [],
   "source": [
    "#Split into test and train\n",
    "from sklearn.model_selection import train_test_split\n",
    "\n",
    "train, test = train_test_split(df_total,stratify=df_total['user_id'])\n",
    "test = test[test['business_id'].isin(train['business_id'])] #This makes sure there is overlap in train and test for both\n"
   ]
  },
  {
   "cell_type": "code",
   "execution_count": 7,
   "metadata": {
    "collapsed": true
   },
   "outputs": [],
   "source": [
    "#FORMULA TO RETURN VECTORS OF PREDICTED and ACTUAL VALUES\n",
    "def baseline_predictions(train,test):\n",
    "    user_ids = list(set(train['user_id']))\n",
    "    business_ids = list(set(train['business_id']))\n",
    "    \n",
    "    #Getting user and business averages for full matrix    \n",
    "    business_list = list(set(train['business_id']))\n",
    "    user_list = list(set(train['user_id']))\n",
    "    \n",
    "    business_average_stars = []\n",
    "    for i in business_list:\n",
    "        average_stars = np.average(train['stars'], weights=(train['business_id']==i))\n",
    "        business_average_stars.append(average_stars)\n",
    "    business_total_avg_stars = np.mean(business_average_stars) #These averages are literally averages of averages - which I think we want\n",
    "    \n",
    "    user_average_stars = [] \n",
    "    for i in user_list:\n",
    "        average_stars = np.average(train['stars'], weights=(train['user_id']==i))\n",
    "        user_average_stars.append(average_stars)\n",
    "    user_total_avg_stars = np.mean(user_average_stars)\n",
    "    \n",
    "    \n",
    "    \n",
    "    user_baselines = []\n",
    "    for i in user_ids:\n",
    "        a = user_baseline(train,i,user_total_avg_stars)\n",
    "        user_baselines.append(a)\n",
    "    \n",
    "    business_baselines = []\n",
    "    for i in business_ids:\n",
    "        a = business_baseline(train,i,business_total_avg_stars)\n",
    "        business_baselines.append(a)\n",
    "\n",
    "    #Create matrices of user and business average scores, and then add them\n",
    "    business_baselines_matrix = np.tile(business_baselines,(len(user_baselines),1))\n",
    "    user_baselines_matrix = np.tile(user_baselines,(len(business_baselines),1)).transpose()\n",
    "    \n",
    "    overall_avg_stars = np.mean(train['stars']) #Perhaps change how this average is calculated\n",
    "    \n",
    "    master_baselines_matrix = np.add(business_baselines_matrix,user_baselines_matrix) #Sum the two matrices\n",
    "    master_baselines_matrix = master_baselines_matrix + overall_avg_stars #Add the average stars from the train dataframe\n",
    "\n",
    "    #Turn numpy matrix into pandas dataframe with labels for columns and rows\n",
    "    master_baselines_dataframe = pd.DataFrame(data=master_baselines_matrix,index=user_ids,columns=business_ids)\n",
    "    \n",
    "    #Test component: \n",
    "    \n",
    "    #In order to test the accuracy of this, create a dataframe of user-business interactions that actually happened\n",
    "    test_user_business_combos = list(zip(test['business_id'],\n",
    "                                         test['user_id'],\n",
    "                                         test['stars']))\n",
    "    \n",
    "    train_user_business_combos = list(zip(train['business_id'],\n",
    "                                         train['user_id'],\n",
    "                                         train['stars']))\n",
    "\n",
    "    train_predicted_values = []\n",
    "    train_actual_values = []\n",
    "    for i in train_user_business_combos:\n",
    "        prediction = baseline_score(master_baselines_dataframe,i[0],i[1])\n",
    "        #prediction = round(prediction)  ###this line is better off hidden\n",
    "        train_predicted_values.append(prediction)\n",
    "        train_actual_values.append(i[2])\n",
    "    \n",
    "    train_results = pd.DataFrame({\n",
    "            'predicted_values': train_predicted_values,\n",
    "            'actual_values': train_actual_values})\n",
    "    test_predicted_values = []\n",
    "    test_actual_values = []\n",
    "    \n",
    "    \n",
    "    for i in test_user_business_combos:\n",
    "        prediction = baseline_score(master_baselines_dataframe,i[0],i[1])\n",
    "        #prediction = round(prediction)  ###this line is better off hidden\n",
    "        test_predicted_values.append(prediction)\n",
    "        test_actual_values.append(i[2])\n",
    "    \n",
    "    test_results = pd.DataFrame({\n",
    "            'predicted_values': test_predicted_values,\n",
    "            'actual_values': test_actual_values})\n",
    "\n",
    "    return test_results,train_results"
   ]
  },
  {
   "cell_type": "code",
   "execution_count": 8,
   "metadata": {
    "collapsed": true
   },
   "outputs": [],
   "source": [
    "test_results = baseline_predictions(train,test)[0]"
   ]
  },
  {
   "cell_type": "code",
   "execution_count": 9,
   "metadata": {
    "collapsed": true
   },
   "outputs": [],
   "source": [
    "train_results = baseline_predictions(train,test)[1]"
   ]
  },
  {
   "cell_type": "code",
   "execution_count": 10,
   "metadata": {
    "collapsed": true
   },
   "outputs": [],
   "source": [
    "#RMSE  \n",
    "def RMSE(results):\n",
    "    \"\"\"\n",
    "    Calculate the root mean squared error between a matrix of real ratings and predicted ratings\n",
    "    :param real: A matrix containing the real ratings (with 'NaN' for any missing elements)\n",
    "    :param predicted: A matrix of predictions\n",
    "    :return: The RMSE as a float\n",
    "    \"\"\"\n",
    "    return np.sqrt(np.nanmean(np.square(results['actual_values'] - results['predicted_values'])))"
   ]
  },
  {
   "cell_type": "code",
   "execution_count": 11,
   "metadata": {},
   "outputs": [
    {
     "data": {
      "text/plain": [
       "1.0654977023908747"
      ]
     },
     "execution_count": 11,
     "metadata": {},
     "output_type": "execute_result"
    }
   ],
   "source": [
    "RMSE(test_results)"
   ]
  },
  {
   "cell_type": "code",
   "execution_count": 12,
   "metadata": {},
   "outputs": [
    {
     "data": {
      "text/plain": [
       "0.88531365781304883"
      ]
     },
     "execution_count": 12,
     "metadata": {},
     "output_type": "execute_result"
    }
   ],
   "source": [
    "RMSE(train_results)"
   ]
  },
  {
   "cell_type": "code",
   "execution_count": 13,
   "metadata": {
    "collapsed": true
   },
   "outputs": [],
   "source": [
    "#RIDGE REGRESSION!\n",
    "\n",
    "#create a formula to remove unecessary columns from a dataframe in order to perform Ridge Regression\n",
    "def create_ridge_dataframe(df):\n",
    "    \n",
    "    #ridge_dataframe = df.drop('text',1)\n",
    "    #ridge_dataframe = ridge_dataframe.drop('business_id',1)\n",
    "    #ridge_dataframe = ridge_dataframe.drop('user_id',1)\n",
    "    ridge_dataframe = ridge_dataframe.drop('review_id',1)\n",
    "    ridge_dataframe = ridge_dataframe.drop('elite',1)\n",
    "\n",
    "    ridge_dataframe = ridge_dataframe.drop('user_name',1)\n",
    "    ridge_dataframe = ridge_dataframe.drop('indexed_id',1)\n",
    "    ridge_dataframe = ridge_dataframe.drop('address',1)\n",
    "    ridge_dataframe = ridge_dataframe.drop('attributes',1)\n",
    "    ridge_dataframe = ridge_dataframe.drop('city',1)\n",
    "    ridge_dataframe = ridge_dataframe.drop('hours',1)\n",
    "    ridge_dataframe = ridge_dataframe.drop('is_open',1)\n",
    "    ridge_dataframe = ridge_dataframe.drop('latitude',1)\n",
    "    ridge_dataframe = ridge_dataframe.drop('longitude',1)\n",
    "    ridge_dataframe = ridge_dataframe.drop('business_name',1)\n",
    "    ridge_dataframe = ridge_dataframe.drop('state',1)\n",
    "    ridge_dataframe = ridge_dataframe.drop('postal_code',1)\n",
    "    ridge_dataframe = ridge_dataframe.drop('Restaurant_Status',1)\n",
    "    ridge_dataframe = ridge_dataframe.drop('categories',1) #Make dummies out of categories, but for now just delete them\n",
    "    ridge_dataframe = ridge_dataframe.drop('review_date',1) #You should make these usable, but couldn't figure out so far\n",
    "    ridge_dataframe = ridge_dataframe.drop('yelping_since',1) #Same as above\n",
    "    ridge_dataframe = ridge_dataframe.drop('user_friends',1)\n",
    "    ridge_dataframe = ridge_dataframe.drop('business_id',1)\n",
    "    ridge_dataframe = ridge_dataframe.drop('user_id',1)\n",
    "    ridge_dataframe = ridge_dataframe.drop('neighborhood',1)\n",
    "    \n",
    "    #ridge_dataframe = pd.get_dummies(ridge_dataframe,columns=['neighborhood']) ####DO THIS NEXT\n",
    "    ridge_dataframe['elite_status'] = ridge_dataframe.elite_status.map(dict(Yes=1, No=0))\n",
    "\n",
    "    return ridge_dataframe"
   ]
  },
  {
   "cell_type": "code",
   "execution_count": 14,
   "metadata": {},
   "outputs": [
    {
     "data": {
      "text/plain": [
       "Index([u'business_id', u'review_cool', u'review_date', u'review_funny',\n",
       "       u'review_id', u'stars', u'text', u'review_useful', u'user_id',\n",
       "       u'compliment_cool', u'compliment_cute', u'compliment_funny',\n",
       "       u'compliment_hot', u'compliment_list', u'compliment_more',\n",
       "       u'compliment_note', u'compliment_photos', u'compliment_plain',\n",
       "       u'compliment_profile', u'compliment_writer', u'user_cool_count',\n",
       "       u'elite', u'fans', u'user_friends', u'user_funny_count', u'user_name',\n",
       "       u'user_review_count', u'user_useful_count', u'yelping_since',\n",
       "       u'elite_status', u'indexed_id', u'address', u'attributes',\n",
       "       u'categories', u'city', u'hours', u'is_open', u'latitude', u'longitude',\n",
       "       u'business_name', u'neighborhood', u'postal_code',\n",
       "       u'business_review_count', u'state', u'Restaurant_Status'],\n",
       "      dtype='object')"
      ]
     },
     "execution_count": 14,
     "metadata": {},
     "output_type": "execute_result"
    }
   ],
   "source": [
    "train.columns"
   ]
  },
  {
   "cell_type": "code",
   "execution_count": 15,
   "metadata": {
    "collapsed": true
   },
   "outputs": [],
   "source": [
    "predictors = list(train.columns)"
   ]
  },
  {
   "cell_type": "code",
   "execution_count": 16,
   "metadata": {
    "collapsed": true
   },
   "outputs": [],
   "source": [
    "def format_ridge(dataframe):\n",
    "    predictors = list(dataframe.columns)\n",
    "    predictors.remove('business_id')\n",
    "    predictors.remove('review_date')\n",
    "    predictors.remove('review_id')\n",
    "    predictors.remove('text')\n",
    "    predictors.remove('user_id')\n",
    "    predictors.remove('elite')\n",
    "    predictors.remove('user_friends')\n",
    "    predictors.remove('user_name')\n",
    "    predictors.remove('yelping_since')\n",
    "    predictors.remove('indexed_id')\n",
    "    predictors.remove('address')\n",
    "    predictors.remove('attributes')\n",
    "    predictors.remove('categories')\n",
    "    predictors.remove('city')\n",
    "    predictors.remove('hours')\n",
    "    predictors.remove('is_open')\n",
    "    predictors.remove('latitude')\n",
    "    predictors.remove('longitude')\n",
    "    predictors.remove('business_name')\n",
    "    predictors.remove('neighborhood')\n",
    "    predictors.remove('postal_code')\n",
    "    predictors.remove('state')\n",
    "    predictors.remove('Restaurant_Status')\n",
    "    \n",
    "    new_dataframe = dataframe[predictors]\n",
    "    new_dataframe['elite_status'] = new_dataframe.elite_status.map(dict(Yes=1, No=0))\n",
    "    \n",
    "    return new_dataframe"
   ]
  },
  {
   "cell_type": "code",
   "execution_count": 17,
   "metadata": {},
   "outputs": [
    {
     "name": "stderr",
     "output_type": "stream",
     "text": [
      "/Users/Kally/anaconda/envs/python2/lib/python2.7/site-packages/ipykernel_launcher.py:28: SettingWithCopyWarning: \n",
      "A value is trying to be set on a copy of a slice from a DataFrame.\n",
      "Try using .loc[row_indexer,col_indexer] = value instead\n",
      "\n",
      "See the caveats in the documentation: http://pandas.pydata.org/pandas-docs/stable/indexing.html#indexing-view-versus-copy\n"
     ]
    }
   ],
   "source": [
    "ridge_train = format_ridge(train)"
   ]
  },
  {
   "cell_type": "code",
   "execution_count": 18,
   "metadata": {},
   "outputs": [
    {
     "data": {
      "text/html": [
       "<div>\n",
       "<style>\n",
       "    .dataframe thead tr:only-child th {\n",
       "        text-align: right;\n",
       "    }\n",
       "\n",
       "    .dataframe thead th {\n",
       "        text-align: left;\n",
       "    }\n",
       "\n",
       "    .dataframe tbody tr th {\n",
       "        vertical-align: top;\n",
       "    }\n",
       "</style>\n",
       "<table border=\"1\" class=\"dataframe\">\n",
       "  <thead>\n",
       "    <tr style=\"text-align: right;\">\n",
       "      <th></th>\n",
       "      <th>review_cool</th>\n",
       "      <th>review_funny</th>\n",
       "      <th>stars</th>\n",
       "      <th>review_useful</th>\n",
       "      <th>compliment_cool</th>\n",
       "      <th>compliment_cute</th>\n",
       "      <th>compliment_funny</th>\n",
       "      <th>compliment_hot</th>\n",
       "      <th>compliment_list</th>\n",
       "      <th>compliment_more</th>\n",
       "      <th>...</th>\n",
       "      <th>compliment_plain</th>\n",
       "      <th>compliment_profile</th>\n",
       "      <th>compliment_writer</th>\n",
       "      <th>user_cool_count</th>\n",
       "      <th>fans</th>\n",
       "      <th>user_funny_count</th>\n",
       "      <th>user_review_count</th>\n",
       "      <th>user_useful_count</th>\n",
       "      <th>elite_status</th>\n",
       "      <th>business_review_count</th>\n",
       "    </tr>\n",
       "  </thead>\n",
       "  <tbody>\n",
       "    <tr>\n",
       "      <th>14974</th>\n",
       "      <td>1</td>\n",
       "      <td>1</td>\n",
       "      <td>3</td>\n",
       "      <td>1</td>\n",
       "      <td>0</td>\n",
       "      <td>0</td>\n",
       "      <td>0</td>\n",
       "      <td>0</td>\n",
       "      <td>0</td>\n",
       "      <td>0</td>\n",
       "      <td>...</td>\n",
       "      <td>0</td>\n",
       "      <td>0</td>\n",
       "      <td>2</td>\n",
       "      <td>0</td>\n",
       "      <td>1</td>\n",
       "      <td>0</td>\n",
       "      <td>10</td>\n",
       "      <td>6</td>\n",
       "      <td>0</td>\n",
       "      <td>53</td>\n",
       "    </tr>\n",
       "    <tr>\n",
       "      <th>13203</th>\n",
       "      <td>0</td>\n",
       "      <td>0</td>\n",
       "      <td>5</td>\n",
       "      <td>0</td>\n",
       "      <td>0</td>\n",
       "      <td>0</td>\n",
       "      <td>0</td>\n",
       "      <td>0</td>\n",
       "      <td>0</td>\n",
       "      <td>0</td>\n",
       "      <td>...</td>\n",
       "      <td>0</td>\n",
       "      <td>0</td>\n",
       "      <td>0</td>\n",
       "      <td>0</td>\n",
       "      <td>0</td>\n",
       "      <td>0</td>\n",
       "      <td>0</td>\n",
       "      <td>0</td>\n",
       "      <td>0</td>\n",
       "      <td>39</td>\n",
       "    </tr>\n",
       "    <tr>\n",
       "      <th>37551</th>\n",
       "      <td>2</td>\n",
       "      <td>0</td>\n",
       "      <td>4</td>\n",
       "      <td>0</td>\n",
       "      <td>4</td>\n",
       "      <td>0</td>\n",
       "      <td>4</td>\n",
       "      <td>4</td>\n",
       "      <td>0</td>\n",
       "      <td>1</td>\n",
       "      <td>...</td>\n",
       "      <td>9</td>\n",
       "      <td>0</td>\n",
       "      <td>0</td>\n",
       "      <td>39</td>\n",
       "      <td>8</td>\n",
       "      <td>7</td>\n",
       "      <td>29</td>\n",
       "      <td>75</td>\n",
       "      <td>0</td>\n",
       "      <td>43</td>\n",
       "    </tr>\n",
       "    <tr>\n",
       "      <th>34968</th>\n",
       "      <td>0</td>\n",
       "      <td>0</td>\n",
       "      <td>3</td>\n",
       "      <td>0</td>\n",
       "      <td>26</td>\n",
       "      <td>0</td>\n",
       "      <td>26</td>\n",
       "      <td>24</td>\n",
       "      <td>0</td>\n",
       "      <td>4</td>\n",
       "      <td>...</td>\n",
       "      <td>13</td>\n",
       "      <td>4</td>\n",
       "      <td>10</td>\n",
       "      <td>4</td>\n",
       "      <td>14</td>\n",
       "      <td>9</td>\n",
       "      <td>202</td>\n",
       "      <td>9</td>\n",
       "      <td>1</td>\n",
       "      <td>30</td>\n",
       "    </tr>\n",
       "    <tr>\n",
       "      <th>15374</th>\n",
       "      <td>1</td>\n",
       "      <td>0</td>\n",
       "      <td>5</td>\n",
       "      <td>0</td>\n",
       "      <td>10</td>\n",
       "      <td>0</td>\n",
       "      <td>10</td>\n",
       "      <td>6</td>\n",
       "      <td>0</td>\n",
       "      <td>0</td>\n",
       "      <td>...</td>\n",
       "      <td>4</td>\n",
       "      <td>0</td>\n",
       "      <td>5</td>\n",
       "      <td>0</td>\n",
       "      <td>20</td>\n",
       "      <td>0</td>\n",
       "      <td>118</td>\n",
       "      <td>2</td>\n",
       "      <td>0</td>\n",
       "      <td>26</td>\n",
       "    </tr>\n",
       "  </tbody>\n",
       "</table>\n",
       "<p>5 rows × 22 columns</p>\n",
       "</div>"
      ],
      "text/plain": [
       "       review_cool  review_funny  stars  review_useful  compliment_cool  \\\n",
       "14974            1             1      3              1                0   \n",
       "13203            0             0      5              0                0   \n",
       "37551            2             0      4              0                4   \n",
       "34968            0             0      3              0               26   \n",
       "15374            1             0      5              0               10   \n",
       "\n",
       "       compliment_cute  compliment_funny  compliment_hot  compliment_list  \\\n",
       "14974                0                 0               0                0   \n",
       "13203                0                 0               0                0   \n",
       "37551                0                 4               4                0   \n",
       "34968                0                26              24                0   \n",
       "15374                0                10               6                0   \n",
       "\n",
       "       compliment_more          ...            compliment_plain  \\\n",
       "14974                0          ...                           0   \n",
       "13203                0          ...                           0   \n",
       "37551                1          ...                           9   \n",
       "34968                4          ...                          13   \n",
       "15374                0          ...                           4   \n",
       "\n",
       "       compliment_profile  compliment_writer  user_cool_count  fans  \\\n",
       "14974                   0                  2                0     1   \n",
       "13203                   0                  0                0     0   \n",
       "37551                   0                  0               39     8   \n",
       "34968                   4                 10                4    14   \n",
       "15374                   0                  5                0    20   \n",
       "\n",
       "       user_funny_count  user_review_count  user_useful_count  elite_status  \\\n",
       "14974                 0                 10                  6             0   \n",
       "13203                 0                  0                  0             0   \n",
       "37551                 7                 29                 75             0   \n",
       "34968                 9                202                  9             1   \n",
       "15374                 0                118                  2             0   \n",
       "\n",
       "       business_review_count  \n",
       "14974                     53  \n",
       "13203                     39  \n",
       "37551                     43  \n",
       "34968                     30  \n",
       "15374                     26  \n",
       "\n",
       "[5 rows x 22 columns]"
      ]
     },
     "execution_count": 18,
     "metadata": {},
     "output_type": "execute_result"
    }
   ],
   "source": [
    "ridge_train.head()"
   ]
  },
  {
   "cell_type": "code",
   "execution_count": 19,
   "metadata": {},
   "outputs": [
    {
     "name": "stderr",
     "output_type": "stream",
     "text": [
      "/Users/Kally/anaconda/envs/python2/lib/python2.7/site-packages/ipykernel_launcher.py:28: SettingWithCopyWarning: \n",
      "A value is trying to be set on a copy of a slice from a DataFrame.\n",
      "Try using .loc[row_indexer,col_indexer] = value instead\n",
      "\n",
      "See the caveats in the documentation: http://pandas.pydata.org/pandas-docs/stable/indexing.html#indexing-view-versus-copy\n"
     ]
    }
   ],
   "source": [
    "#Format train and test dataframes accordingly\n",
    "ridge_train = format_ridge(train)\n",
    "ridge_test = format_ridge(test)\n",
    "\n",
    "x_train = add_constant(ridge_train.drop('stars',1))\n",
    "y_train = ridge_train['stars'].values\n",
    "y_train = y_train.reshape(len(x_train),1)\n",
    "\n",
    "x_test = add_constant(ridge_test.drop('stars',1))\n",
    "y_test = ridge_test['stars'].values\n",
    "y_test = y_test.reshape(len(x_test),1)"
   ]
  },
  {
   "cell_type": "code",
   "execution_count": 20,
   "metadata": {
    "collapsed": true
   },
   "outputs": [],
   "source": [
    "#Creating lambda list\n",
    "lambdas = []\n",
    "for i in range(-5,5):\n",
    "    lambdas.append(10**i)\n",
    "\n",
    "#Ridge Regression\n",
    "from sklearn.model_selection import GridSearchCV\n",
    "def cv_optimize_ridge(x_train,y_train,lambdas,n_folds=10):\n",
    "    est = Ridge()\n",
    "    parameters = {'alpha': lambdas}\n",
    "    gs = GridSearchCV(est,param_grid=parameters,cv=n_folds,scoring=\"neg_mean_squared_error\")\n",
    "    gs.fit(x_train,y_train)\n",
    "    return gs\n",
    "fitmodel = cv_optimize_ridge(x_train,y_train,lambdas,n_folds = 10)"
   ]
  },
  {
   "cell_type": "code",
   "execution_count": 21,
   "metadata": {},
   "outputs": [
    {
     "data": {
      "text/plain": [
       "{'alpha': 100}"
      ]
     },
     "execution_count": 21,
     "metadata": {},
     "output_type": "execute_result"
    }
   ],
   "source": [
    "fitmodel.best_params_"
   ]
  },
  {
   "cell_type": "code",
   "execution_count": 22,
   "metadata": {
    "collapsed": true
   },
   "outputs": [],
   "source": [
    "#Running the Ridge regression on the test set\n",
    "clf = Ridge(alpha= 100 )\n",
    "clf.fit(x_train, y_train)\n",
    "clf.predict(x_test)\n",
    "\n",
    "ridge_preds_test = clf.predict(x_test)"
   ]
  },
  {
   "cell_type": "code",
   "execution_count": 23,
   "metadata": {
    "collapsed": true
   },
   "outputs": [],
   "source": [
    "#Running the Ridge regression on the train set\n",
    "clf = Ridge(alpha= 100 )\n",
    "clf.fit(x_train, y_train)\n",
    "clf.predict(x_train)\n",
    "\n",
    "ridge_preds_train = clf.predict(x_train)"
   ]
  },
  {
   "cell_type": "code",
   "execution_count": 24,
   "metadata": {
    "collapsed": true
   },
   "outputs": [],
   "source": [
    "#RMSE  \n",
    "def RMSE(actual,predicted):\n",
    "    \"\"\"\n",
    "    Calculate the root mean squared error between a matrix of real ratings and predicted ratings\n",
    "    :param real: A matrix containing the real ratings (with 'NaN' for any missing elements)\n",
    "    :param predicted: A matrix of predictions\n",
    "    :return: The RMSE as a float\n",
    "    \"\"\"\n",
    "    return np.sqrt(np.nanmean(np.square(actual - predicted)))"
   ]
  },
  {
   "cell_type": "code",
   "execution_count": 25,
   "metadata": {},
   "outputs": [
    {
     "data": {
      "text/plain": [
       "1.0475227869861707"
      ]
     },
     "execution_count": 25,
     "metadata": {},
     "output_type": "execute_result"
    }
   ],
   "source": [
    "#Calculating the RMSE on the test set\n",
    "RMSE(y_test,ridge_preds_test)"
   ]
  },
  {
   "cell_type": "code",
   "execution_count": 26,
   "metadata": {},
   "outputs": [
    {
     "data": {
      "text/plain": [
       "1.047741714021146"
      ]
     },
     "execution_count": 26,
     "metadata": {},
     "output_type": "execute_result"
    }
   ],
   "source": [
    "#Calculating the RMSE on the train set\n",
    "RMSE(y_train,ridge_preds_train)"
   ]
  }
 ],
 "metadata": {
  "kernelspec": {
   "display_name": "Python 2",
   "language": "python",
   "name": "python2"
  },
  "language_info": {
   "codemirror_mode": {
    "name": "ipython",
    "version": 2
   },
   "file_extension": ".py",
   "mimetype": "text/x-python",
   "name": "python",
   "nbconvert_exporter": "python",
   "pygments_lexer": "ipython2",
   "version": "2.7.13"
  }
 },
 "nbformat": 4,
 "nbformat_minor": 2
}
