{
 "cells": [
  {
   "cell_type": "code",
   "execution_count": 1,
   "metadata": {
    "collapsed": true
   },
   "outputs": [],
   "source": [
    "import numpy as np\n",
    "import pandas as pd\n",
    "import matplotlib\n",
    "import matplotlib.pyplot as plt\n",
    "import sklearn.metrics as metrics\n",
    "from sklearn.model_selection import cross_val_score\n",
    "from sklearn import tree\n",
    "from sklearn.tree import DecisionTreeClassifier\n",
    "from sklearn.ensemble import RandomForestClassifier\n",
    "from sklearn.ensemble import AdaBoostClassifier\n",
    "from sklearn.linear_model import LogisticRegressionCV\n",
    "import seaborn as sns\n",
    "%matplotlib inline"
   ]
  },
  {
   "cell_type": "code",
   "execution_count": 4,
   "metadata": {},
   "outputs": [],
   "source": [
    "# load datasets\n",
    "df_user = pd.read_csv(\"Montréal_users.csv\")\n",
    "df_review= pd.read_csv(\"Montréal_reviews.csv\")\n",
    "df_business = pd.read_csv(\"Montréal_businesses.csv\")\n",
    "\n",
    "# split into test and train\n",
    "msk = np.random.rand(len(df_review)) < 0.75\n",
    "df_review_train = df_review[msk]\n",
    "df_review_test = df_review[~msk]\n",
    "\n",
    "# ensure datasets have the same business ids and user ids\n",
    "df_review_business_id_train = list(df_review_train['business_id'])\n",
    "df_review_user_id_train = list(df_review_train['user_id'])\n",
    "df_business_train = df_business[df_business['business_id'].isin(df_review_business_id_train)]\n",
    "df_user_train = df_user[df_user['user_id'].isin(df_review_user_id_train)]\n",
    "\n",
    "df_review_business_id_test = list(df_review_test['business_id'])\n",
    "df_review_user_id_test = list(df_review_test['user_id'])\n",
    "df_business_test = df_business[df_business['business_id'].isin(df_review_business_id_test)]\n",
    "df_user_test = df_user[df_user['user_id'].isin(df_review_user_id_test)]"
   ]
  },
  {
   "cell_type": "code",
   "execution_count": 5,
   "metadata": {},
   "outputs": [
    {
     "name": "stdout",
     "output_type": "stream",
     "text": [
      "(30999, 10)\n",
      "3201\n",
      "2429\n",
      "(3201, 24)\n",
      "3201\n",
      "(2429, 17)\n",
      "2429\n"
     ]
    }
   ],
   "source": [
    "# count number of uniqe users\n",
    "print(df_review_train.shape)\n",
    "print(len(df_review_train['user_id'].unique()))\n",
    "print(len(df_review_train['business_id'].unique()))\n",
    "\n",
    "# count number of uniqe users\n",
    "print(df_user_train.shape)\n",
    "print(len(df_user_train['user_id'].unique()))\n",
    "\n",
    "# count number of uniqe business\n",
    "print(df_business_train.shape)\n",
    "print(len(df_business_train['business_id'].unique()))"
   ]
  },
  {
   "cell_type": "code",
   "execution_count": 7,
   "metadata": {
    "collapsed": true
   },
   "outputs": [],
   "source": [
    "df_review_train.to_csv(\"Montreal_review_train.csv\")\n",
    "df_review_test.to_csv(\"Montreal_review_test.csv\")\n",
    "df_user_train.to_csv(\"Montreal_user_train.csv\")\n",
    "df_user_test.to_csv(\"Montreal_user_test.csv\")\n",
    "df_business_train.to_csv(\"Montreal_business_train.csv\")\n",
    "df_business_test.to_csv(\"Montreal_business_test.csv\")"
   ]
  },
  {
   "cell_type": "code",
   "execution_count": 8,
   "metadata": {
    "collapsed": true
   },
   "outputs": [],
   "source": [
    "from sklearn.linear_model import LinearRegression\n",
    "from sklearn.preprocessing import PolynomialFeatures\n",
    "from sklearn.linear_model import Ridge\n",
    "from sklearn.linear_model import Lasso\n",
    "from sklearn.linear_model import RidgeCV\n",
    "from sklearn.linear_model import LassoCV"
   ]
  },
  {
   "cell_type": "code",
   "execution_count": 9,
   "metadata": {
    "collapsed": true
   },
   "outputs": [],
   "source": [
    "def RMSE(real, predicted):\n",
    "    \"\"\"\n",
    "    Calculate the root mean squared error between a matrix of real ratings and predicted ratings\n",
    "    :param real: A matrix containing the real ratings (with 'NaN' for any missing elements)\n",
    "    :param predicted: A matrix of predictions\n",
    "    :return: The RMSE as a float\n",
    "    \"\"\"\n",
    "    return np.sqrt(np.nanmean(np.square(real - predicted)))"
   ]
  },
  {
   "cell_type": "code",
   "execution_count": null,
   "metadata": {},
   "outputs": [],
   "source": [
    "def predict(df, df_total):\n",
    "    #get unique user and business id's\n",
    "    unique_ids = list(set(df_total['user_id'].as_matrix()))\n",
    "    unique_businesses = list(set(df_total['business_id'].as_matrix()))\n",
    "    mapping_users = {}\n",
    "    mapping_businesses = {}\n",
    "    ct=0\n",
    "    for item in unique_ids:\n",
    "        mapping_users[item] = ct\n",
    "        ct+=1\n",
    "    ct=0\n",
    "    for item in unique_businesses:\n",
    "        mapping_businesses[item] = ct\n",
    "        ct+=1\n",
    "\n",
    "    A = np.zeros([df.shape[0],1+len(unique_ids)+len(unique_businesses)])\n",
    "#     print(A.shape)\n",
    "\n",
    "    A[:,0] = 1\n",
    "    groundtruth = []\n",
    "    ct = 0\n",
    "    for index, row in df.iterrows():\n",
    "        user_id = row['user_id']\n",
    "        business_id = row['business_id']\n",
    "        user_index = mapping_users[user_id]\n",
    "        business_index = mapping_businesses[business_id]\n",
    "        A[ct,1+user_index]=1\n",
    "        A[ct,1+len(unique_ids)+business_index]=1\n",
    "        groundtruth.append(row['stars'])\n",
    "        ct+=1\n",
    "#     print(groundtruth)\n",
    "#     print(A)\n",
    "    return (A, groundtruth)\n",
    "\n",
    "x_train = predict(df_review_train, df_review)[0]\n",
    "y_train = predict(df_review_train, df_review)[1]\n",
    "x_test = predict(df_review_test, df_review)[0]\n",
    "y_test = predict(df_review_test, df_review)[1]\n",
    "\n",
    "# Ridge CV\n",
    "model = RidgeCV(alphas=[0.01, 0.1, 1.0, 10.0, 100])\n",
    "model.fit(x_train, y_train)\n",
    "model.alpha_\n",
    "\n",
    "model = Ridge(fit_intercept=False, alpha = model.alpha_)\n",
    "\n",
    "model = model.fit(x_train, y_train)\n",
    "y_pred_train = model.predict(x_train)\n",
    "y_pred_test = model.predict(x_test)\n",
    "\n",
    "print(\"Train RMSE score is {}\".format(RMSE(y_train, y_pred_train)))\n",
    "print(\"Test RMSE score is {}\".format(RMSE(y_test, y_pred_test)))"
   ]
  }
 ],
 "metadata": {
  "kernelspec": {
   "display_name": "Python 3",
   "language": "python",
   "name": "python3"
  },
  "language_info": {
   "codemirror_mode": {
    "name": "ipython",
    "version": 3
   },
   "file_extension": ".py",
   "mimetype": "text/x-python",
   "name": "python",
   "nbconvert_exporter": "python",
   "pygments_lexer": "ipython3",
   "version": "3.6.1"
  }
 },
 "nbformat": 4,
 "nbformat_minor": 2
}
